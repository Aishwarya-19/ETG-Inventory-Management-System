{
 "cells": [
  {
   "cell_type": "markdown",
   "metadata": {},
   "source": [
    "# Read Data from JSON"
   ]
  },
  {
   "cell_type": "code",
   "execution_count": 1,
   "metadata": {},
   "outputs": [],
   "source": [
    "import json\n",
    "fd = open(\"record.json\",'r')\n",
    "txt = fd.read()\n",
    "fd.close()\n",
    "\n",
    "record = json.loads(txt)"
   ]
  },
  {
   "cell_type": "code",
   "execution_count": 2,
   "metadata": {},
   "outputs": [
    {
     "data": {
      "text/plain": [
       "{'101': {'Name': 'Butter', 'Qn': 100, 'pr': 210, 'Size': '500gm', 'tax': 12},\n",
       " '102': {'Name': 'Gems', 'Qn': 500, 'pr': 20, 'Size': '10gm', 'tax': 18},\n",
       " '103': {'Name': 'Oreo', 'Qn': 300, 'pr': 30, 'Size': '300gm', 'tax': 18},\n",
       " '104': {'Name': 'Maggie', 'Qn': 500, 'pr': 12, 'Size': '70gm', 'tax': 18},\n",
       " '105': {'Name': 'lolipop', 'Qn': 240, 'pr': 10, 'Size': '9gm', 'tax': 18},\n",
       " '106': {'Name': 'Burbon', 'Qn': 250, 'pr': 60, 'Size': '250gm', 'tax': 18},\n",
       " '107': {'Name': 'Popcorn', 'Qn': 150, 'pr': 20, 'Size': '100gm', 'tax': 18},\n",
       " '108': {'Name': 'Cheese', 'Qn': 100, 'pr': 175, 'Size': '500gm', 'tax': 12},\n",
       " '109': {'Name': 'Soup', 'Qn': 290, 'pr': 200, 'Size': '500gm', 'tax': 18},\n",
       " '110': {'Name': 'Pasta', 'Qn': 600, 'pr': 150, 'Size': '500gm', 'tax': 5},\n",
       " '111': {'Name': 'kitkat', 'Qn': 500, 'pr': 40, 'Size': '250gm', 'tax': 18},\n",
       " '112': {'Name': '5star', 'Qn': 500, 'pr': 40, 'Size': '250gm', 'tax': 18},\n",
       " '113': {'Name': 'Cardbury', 'Qn': 350, 'pr': 210, 'Size': '500gm', 'tax': 18},\n",
       " '114': {'Name': 'Perk', 'Qn': 100, 'pr': 210, 'Size': '500gm', 'tax': 18},\n",
       " '115': {'Name': 'Sprite', 'Qn': 260, 'pr': 60, 'Size': '250ml', 'tax': 18},\n",
       " '116': {'Name': 'Pepsi', 'Qn': 150, 'pr': 60, 'Size': '250ml', 'tax': 18},\n",
       " '117': {'Name': 'Coca Cola', 'Qn': 390, 'pr': 60, 'Size': '250ml', 'tax': 18},\n",
       " '118': {'Name': 'Limca', 'Qn': 180, 'pr': 60, 'Size': '250ml', 'tax': 18},\n",
       " '119': {'Name': 'Lays', 'Qn': 200, 'pr': 20, 'Size': '50gm', 'tax': 18},\n",
       " '120': {'Name': 'Ketchup', 'Qn': 100, 'pr': 140, 'Size': '1kg', 'tax': 12},\n",
       " '121': {'Name': 'Soy Sauce', 'Qn': 150, 'pr': 50, 'Size': '100ml', 'tax': 12},\n",
       " '122': {'Name': 'Vinegar', 'Qn': 150, 'pr': 200, 'Size': '300ml', 'tax': 12},\n",
       " '123': {'Name': 'Honey', 'Qn': 265, 'pr': 300, 'Size': '500gm', 'tax': 5},\n",
       " '124': {'Name': 'Cream', 'Qn': 320, 'pr': 200, 'Size': '500gm', 'tax': 5},\n",
       " '125': {'Name': 'Cake', 'Qn': 200, 'pr': 400, 'Size': '500gm', 'tax': 18},\n",
       " '126': {'Name': 'Nachos', 'Qn': 360, 'pr': 200, 'Size': '500gm', 'tax': 18},\n",
       " '127': {'Name': 'Shampoo', 'Qn': 230, 'pr': 250, 'Size': '180ml', 'tax': 5},\n",
       " '128': {'Name': 'Soap', 'Qn': 187, 'pr': 210, 'Size': '500gm', 'tax': 18},\n",
       " '129': {'Name': 'Lotion', 'Qn': 180, 'pr': 95, 'Size': '100ml', 'tax': 18}}"
      ]
     },
     "execution_count": 2,
     "metadata": {},
     "output_type": "execute_result"
    }
   ],
   "source": [
    "record"
   ]
  },
  {
   "cell_type": "markdown",
   "metadata": {},
   "source": [
    "# Add New Item into Inventory"
   ]
  },
  {
   "cell_type": "code",
   "execution_count": 3,
   "metadata": {},
   "outputs": [
    {
     "name": "stdout",
     "output_type": "stream",
     "text": [
      "Enter product id:130\n",
      "Enter product name:Oil\n",
      "Enter Quantity:300\n",
      "Enter price:100\n",
      "Enter size:200ml\n",
      "Enter tax :5\n"
     ]
    }
   ],
   "source": [
    "prod_id = str(input(\"Enter product id:\"))\n",
    "Name = str(input(\"Enter product name:\"))\n",
    "qn = int(input(\"Enter Quantity:\"))\n",
    "price = int(input(\"Enter price:\"))\n",
    "Net_weight = str(input(\"Enter size:\"))\n",
    "GST = int(input(\"Enter tax :\"))\n",
    "\n",
    "record[prod_id] = {'Name': Name, 'Qn': qn, 'pr': price, 'Size': Net_weight, 'tax': GST}\n",
    "\n",
    "js = json.dumps(record)\n",
    "\n",
    "fd = open(\"record.json\",'w')\n",
    "fd.write(js)\n",
    "fd.close()"
   ]
  },
  {
   "cell_type": "code",
   "execution_count": 4,
   "metadata": {},
   "outputs": [
    {
     "data": {
      "text/plain": [
       "{'101': {'Name': 'Butter', 'Qn': 100, 'pr': 210, 'Size': '500gm', 'tax': 12},\n",
       " '102': {'Name': 'Gems', 'Qn': 500, 'pr': 20, 'Size': '10gm', 'tax': 18},\n",
       " '103': {'Name': 'Oreo', 'Qn': 300, 'pr': 30, 'Size': '300gm', 'tax': 18},\n",
       " '104': {'Name': 'Maggie', 'Qn': 500, 'pr': 12, 'Size': '70gm', 'tax': 18},\n",
       " '105': {'Name': 'lolipop', 'Qn': 240, 'pr': 10, 'Size': '9gm', 'tax': 18},\n",
       " '106': {'Name': 'Burbon', 'Qn': 250, 'pr': 60, 'Size': '250gm', 'tax': 18},\n",
       " '107': {'Name': 'Popcorn', 'Qn': 150, 'pr': 20, 'Size': '100gm', 'tax': 18},\n",
       " '108': {'Name': 'Cheese', 'Qn': 100, 'pr': 175, 'Size': '500gm', 'tax': 12},\n",
       " '109': {'Name': 'Soup', 'Qn': 290, 'pr': 200, 'Size': '500gm', 'tax': 18},\n",
       " '110': {'Name': 'Pasta', 'Qn': 600, 'pr': 150, 'Size': '500gm', 'tax': 5},\n",
       " '111': {'Name': 'kitkat', 'Qn': 500, 'pr': 40, 'Size': '250gm', 'tax': 18},\n",
       " '112': {'Name': '5star', 'Qn': 500, 'pr': 40, 'Size': '250gm', 'tax': 18},\n",
       " '113': {'Name': 'Cardbury', 'Qn': 350, 'pr': 210, 'Size': '500gm', 'tax': 18},\n",
       " '114': {'Name': 'Perk', 'Qn': 100, 'pr': 210, 'Size': '500gm', 'tax': 18},\n",
       " '115': {'Name': 'Sprite', 'Qn': 260, 'pr': 60, 'Size': '250ml', 'tax': 18},\n",
       " '116': {'Name': 'Pepsi', 'Qn': 150, 'pr': 60, 'Size': '250ml', 'tax': 18},\n",
       " '117': {'Name': 'Coca Cola', 'Qn': 390, 'pr': 60, 'Size': '250ml', 'tax': 18},\n",
       " '118': {'Name': 'Limca', 'Qn': 180, 'pr': 60, 'Size': '250ml', 'tax': 18},\n",
       " '119': {'Name': 'Lays', 'Qn': 200, 'pr': 20, 'Size': '50gm', 'tax': 18},\n",
       " '120': {'Name': 'Ketchup', 'Qn': 100, 'pr': 140, 'Size': '1kg', 'tax': 12},\n",
       " '121': {'Name': 'Soy Sauce', 'Qn': 150, 'pr': 50, 'Size': '100ml', 'tax': 12},\n",
       " '122': {'Name': 'Vinegar', 'Qn': 150, 'pr': 200, 'Size': '300ml', 'tax': 12},\n",
       " '123': {'Name': 'Honey', 'Qn': 265, 'pr': 300, 'Size': '500gm', 'tax': 5},\n",
       " '124': {'Name': 'Cream', 'Qn': 320, 'pr': 200, 'Size': '500gm', 'tax': 5},\n",
       " '125': {'Name': 'Cake', 'Qn': 200, 'pr': 400, 'Size': '500gm', 'tax': 18},\n",
       " '126': {'Name': 'Nachos', 'Qn': 360, 'pr': 200, 'Size': '500gm', 'tax': 18},\n",
       " '127': {'Name': 'Shampoo', 'Qn': 230, 'pr': 250, 'Size': '180ml', 'tax': 5},\n",
       " '128': {'Name': 'Soap', 'Qn': 187, 'pr': 210, 'Size': '500gm', 'tax': 18},\n",
       " '129': {'Name': 'Lotion', 'Qn': 180, 'pr': 95, 'Size': '100ml', 'tax': 18},\n",
       " '130': {'Name': 'Oil', 'Qn': 300, 'pr': 100, 'Size': '200ml', 'tax': 5}}"
      ]
     },
     "execution_count": 4,
     "metadata": {},
     "output_type": "execute_result"
    }
   ],
   "source": [
    "record\n"
   ]
  },
  {
   "cell_type": "code",
   "execution_count": null,
   "metadata": {},
   "outputs": [],
   "source": []
  }
 ],
 "metadata": {
  "kernelspec": {
   "display_name": "Python 3",
   "language": "python",
   "name": "python3"
  },
  "language_info": {
   "codemirror_mode": {
    "name": "ipython",
    "version": 3
   },
   "file_extension": ".py",
   "mimetype": "text/x-python",
   "name": "python",
   "nbconvert_exporter": "python",
   "pygments_lexer": "ipython3",
   "version": "3.7.6"
  }
 },
 "nbformat": 4,
 "nbformat_minor": 4
}
