{
 "cells": [
  {
   "cell_type": "markdown",
   "metadata": {},
   "source": [
    "# Read inventory"
   ]
  },
  {
   "cell_type": "code",
   "execution_count": 1,
   "metadata": {},
   "outputs": [],
   "source": [
    "import json\n",
    "fd = open(\"record.json\",'r')\n",
    "txt = fd.read()\n",
    "fd.close()\n",
    "\n",
    "records = json.loads(txt)"
   ]
  },
  {
   "cell_type": "code",
   "execution_count": 2,
   "metadata": {},
   "outputs": [
    {
     "data": {
      "text/plain": [
       "{'101': {'Name': 'Butter', 'Qn': 100, 'pr': 210, 'Size': '500gm', 'tax': 12},\n",
       " '102': {'Name': 'Gems', 'Qn': 500, 'pr': 20, 'Size': '10gm', 'tax': 18},\n",
       " '103': {'Name': 'Oreo', 'Qn': 300, 'pr': 30, 'Size': '300gm', 'tax': 18},\n",
       " '104': {'Name': 'Maggie', 'Qn': 500, 'pr': 12, 'Size': '70gm', 'tax': 18},\n",
       " '105': {'Name': 'lolipop', 'Qn': 240, 'pr': 10, 'Size': '9gm', 'tax': 18},\n",
       " '106': {'Name': 'Burbon', 'Qn': 250, 'pr': 60, 'Size': '250gm', 'tax': 18},\n",
       " '107': {'Name': 'Popcorn', 'Qn': 150, 'pr': 20, 'Size': '100gm', 'tax': 18},\n",
       " '108': {'Name': 'Cheese', 'Qn': 100, 'pr': 175, 'Size': '500gm', 'tax': 12},\n",
       " '109': {'Name': 'Soup', 'Qn': 290, 'pr': 200, 'Size': '500gm', 'tax': 18},\n",
       " '110': {'Name': 'Pasta', 'Qn': 600, 'pr': 150, 'Size': '500gm', 'tax': 5},\n",
       " '111': {'Name': 'kitkat', 'Qn': 500, 'pr': 40, 'Size': '250gm', 'tax': 18},\n",
       " '112': {'Name': '5star', 'Qn': 500, 'pr': 40, 'Size': '250gm', 'tax': 18},\n",
       " '113': {'Name': 'Cardbury', 'Qn': 350, 'pr': 210, 'Size': '500gm', 'tax': 18},\n",
       " '114': {'Name': 'Perk', 'Qn': 100, 'pr': 210, 'Size': '500gm', 'tax': 18},\n",
       " '115': {'Name': 'Sprite', 'Qn': 260, 'pr': 60, 'Size': '250ml', 'tax': 18},\n",
       " '116': {'Name': 'Pepsi', 'Qn': 150, 'pr': 60, 'Size': '250ml', 'tax': 18},\n",
       " '117': {'Name': 'Coca Cola', 'Qn': 390, 'pr': 60, 'Size': '250ml', 'tax': 18},\n",
       " '118': {'Name': 'Limca', 'Qn': 180, 'pr': 60, 'Size': '250ml', 'tax': 18},\n",
       " '119': {'Name': 'Lays', 'Qn': 200, 'pr': 20, 'Size': '50gm', 'tax': 18},\n",
       " '120': {'Name': 'Ketchup', 'Qn': 100, 'pr': 140, 'Size': '1kg', 'tax': 12},\n",
       " '121': {'Name': 'Soy Sauce', 'Qn': 150, 'pr': 50, 'Size': '100ml', 'tax': 12},\n",
       " '122': {'Name': 'Vinegar', 'Qn': 150, 'pr': 200, 'Size': '300ml', 'tax': 12},\n",
       " '123': {'Name': 'Honey', 'Qn': 261, 'pr': 300, 'Size': '500gm', 'tax': 5},\n",
       " '124': {'Name': 'Cream', 'Qn': 320, 'pr': 200, 'Size': '500gm', 'tax': 5},\n",
       " '125': {'Name': 'Cake', 'Qn': 200, 'pr': 400, 'Size': '500gm', 'tax': 18},\n",
       " '126': {'Name': 'Nachos', 'Qn': 360, 'pr': 200, 'Size': '500gm', 'tax': 18},\n",
       " '127': {'Name': 'Shampoo', 'Qn': 230, 'pr': 250, 'Size': '180ml', 'tax': 5},\n",
       " '128': {'Name': 'Soap', 'Qn': 187, 'pr': 210, 'Size': '500gm', 'tax': 18},\n",
       " '129': {'Name': 'Lotion', 'Qn': 180, 'pr': 95, 'Size': '100ml', 'tax': 18},\n",
       " '130': {'Name': 'Oil', 'Qn': 300, 'pr': 100, 'Size': '200ml', 'tax': 5}}"
      ]
     },
     "execution_count": 2,
     "metadata": {},
     "output_type": "execute_result"
    }
   ],
   "source": [
    "records"
   ]
  },
  {
   "cell_type": "markdown",
   "metadata": {},
   "source": [
    "# To take input to display products"
   ]
  },
  {
   "cell_type": "code",
   "execution_count": 3,
   "metadata": {},
   "outputs": [
    {
     "name": "stdout",
     "output_type": "stream",
     "text": [
      "Please enter your good name😃:Aishwarya Nandanwar\n",
      "Hello Aishwarya Nandanwar! Welcome to our Grocery Store.\n",
      "Press 1 to display products or 0 for exit: 1\n",
      "-------------------------------Product list-------------------------------\n",
      "101 : Name: Butter , Price: 210 , Net weight: 500gm , Quantity: 100 , GST%: 12\n",
      "102 : Name: Gems , Price: 20 , Net weight: 10gm , Quantity: 500 , GST%: 18\n",
      "103 : Name: Oreo , Price: 30 , Net weight: 300gm , Quantity: 300 , GST%: 18\n",
      "104 : Name: Maggie , Price: 12 , Net weight: 70gm , Quantity: 500 , GST%: 18\n",
      "105 : Name: lolipop , Price: 10 , Net weight: 9gm , Quantity: 240 , GST%: 18\n",
      "106 : Name: Burbon , Price: 60 , Net weight: 250gm , Quantity: 250 , GST%: 18\n",
      "107 : Name: Popcorn , Price: 20 , Net weight: 100gm , Quantity: 150 , GST%: 18\n",
      "108 : Name: Cheese , Price: 175 , Net weight: 500gm , Quantity: 100 , GST%: 12\n",
      "109 : Name: Soup , Price: 200 , Net weight: 500gm , Quantity: 290 , GST%: 18\n",
      "110 : Name: Pasta , Price: 150 , Net weight: 500gm , Quantity: 600 , GST%: 5\n",
      "111 : Name: kitkat , Price: 40 , Net weight: 250gm , Quantity: 500 , GST%: 18\n",
      "112 : Name: 5star , Price: 40 , Net weight: 250gm , Quantity: 500 , GST%: 18\n",
      "113 : Name: Cardbury , Price: 210 , Net weight: 500gm , Quantity: 350 , GST%: 18\n",
      "114 : Name: Perk , Price: 210 , Net weight: 500gm , Quantity: 100 , GST%: 18\n",
      "115 : Name: Sprite , Price: 60 , Net weight: 250ml , Quantity: 260 , GST%: 18\n",
      "116 : Name: Pepsi , Price: 60 , Net weight: 250ml , Quantity: 150 , GST%: 18\n",
      "117 : Name: Coca Cola , Price: 60 , Net weight: 250ml , Quantity: 390 , GST%: 18\n",
      "118 : Name: Limca , Price: 60 , Net weight: 250ml , Quantity: 180 , GST%: 18\n",
      "119 : Name: Lays , Price: 20 , Net weight: 50gm , Quantity: 200 , GST%: 18\n",
      "120 : Name: Ketchup , Price: 140 , Net weight: 1kg , Quantity: 100 , GST%: 12\n",
      "121 : Name: Soy Sauce , Price: 50 , Net weight: 100ml , Quantity: 150 , GST%: 12\n",
      "122 : Name: Vinegar , Price: 200 , Net weight: 300ml , Quantity: 150 , GST%: 12\n",
      "123 : Name: Honey , Price: 300 , Net weight: 500gm , Quantity: 261 , GST%: 5\n",
      "124 : Name: Cream , Price: 200 , Net weight: 500gm , Quantity: 320 , GST%: 5\n",
      "125 : Name: Cake , Price: 400 , Net weight: 500gm , Quantity: 200 , GST%: 18\n",
      "126 : Name: Nachos , Price: 200 , Net weight: 500gm , Quantity: 360 , GST%: 18\n",
      "127 : Name: Shampoo , Price: 250 , Net weight: 180ml , Quantity: 230 , GST%: 5\n",
      "128 : Name: Soap , Price: 210 , Net weight: 500gm , Quantity: 187 , GST%: 18\n",
      "129 : Name: Lotion , Price: 95 , Net weight: 100ml , Quantity: 180 , GST%: 18\n",
      "130 : Name: Oil , Price: 100 , Net weight: 200ml , Quantity: 300 , GST%: 5\n",
      "-------------------------------------------------------------------------\n"
     ]
    }
   ],
   "source": [
    "name = input('Please enter your good name😃:')\n",
    "print(\"Hello \" + name + \"!\",\"Welcome to our Grocery Store.\")\n",
    "option = int(input('Press 1 to display products or 0 for exit: '))\n",
    "\n",
    "print(\"-------------------------------Product list-------------------------------\")\n",
    "\n",
    "if(option == 1):\n",
    "   \n",
    "    for id in records:\n",
    "        print(id,\":\",\"Name:\",records[id]['Name'],\",\",\"Price:\",records[id]['pr'],\",\", \"Net weight:\",records[id]['Size'],\",\",\"Quantity:\",records[id]['Qn'],\",\",\"GST%:\",records[id]['tax']) \n",
    "\n",
    "elif(option == 0):\n",
    "    print(\"Thank you for your time!\")\n",
    "\n",
    "else: \n",
    "    print(\"Please enter valid option\")\n",
    "    \n",
    "print(\"-------------------------------------------------------------------------\")"
   ]
  },
  {
   "cell_type": "markdown",
   "metadata": {},
   "source": [
    "# Purchase"
   ]
  },
  {
   "cell_type": "code",
   "execution_count": 58,
   "metadata": {},
   "outputs": [
    {
     "name": "stdout",
     "output_type": "stream",
     "text": [
      "Enter the product_Id: 127\n",
      "Enter the quantity: 9\n",
      "**************Bill**************\n",
      "Product Name:  Shampoo\n",
      "Price:  250\n",
      "Quantity:  9\n",
      "Net weight:  180ml\n",
      "GST%:  5\n",
      "--------------------------------\n",
      "Total Amount:  2250\n",
      "Tax Inclusive\n",
      "Mon Sep  6 19:33:57 2021\n",
      "********************************\n",
      "Thank you!! Aishwarya Nandanwar for visiting\n",
      "         HAPPY SHOPPING          \n"
     ]
    }
   ],
   "source": [
    "ui_prod  = str(input(\"Enter the product_Id: \"))\n",
    "ui_quant = int(input(\"Enter the quantity: \"))\n",
    "import time\n",
    "\n",
    "print(\"**************Bill**************\")\n",
    "print(\"Product Name: \",    records[ui_prod]['Name'])\n",
    "print(\"Price: \",      records[ui_prod]['pr'])\n",
    "print(\"Quantity: \",   ui_quant)\n",
    "print(\"Net weight: \", records[ui_prod]['Size'])\n",
    "print(\"GST%: \",       records[ui_prod]['tax'])\n",
    "print(\"--------------------------------\")\n",
    "print(\"Total Amount: \", records[ui_prod]['pr'] * ui_quant)\n",
    "print(\"Tax Inclusive\")\n",
    "print(time.ctime())\n",
    "print(\"********************************\")\n",
    "print(\"Thank you!! \" + name + \" for visiting\")\n",
    "print(\"         HAPPY SHOPPING          \")\n",
    "\n",
    "records[ui_prod]['Qn'] = records[ui_prod]['Qn'] - ui_quant"
   ]
  },
  {
   "cell_type": "markdown",
   "metadata": {},
   "source": [
    "# Update Inventory after purchase"
   ]
  },
  {
   "cell_type": "code",
   "execution_count": 59,
   "metadata": {},
   "outputs": [],
   "source": [
    "js = json.dumps(records)\n",
    "fd = open(\"record.json\",'w')\n",
    "fd.write(js)\n",
    "fd.close()"
   ]
  },
  {
   "cell_type": "code",
   "execution_count": 60,
   "metadata": {},
   "outputs": [
    {
     "data": {
      "text/plain": [
       "{'101': {'Name': 'Butter', 'Qn': 100, 'pr': 210, 'Size': '500gm', 'tax': 12},\n",
       " '102': {'Name': 'Gems', 'Qn': 497, 'pr': 20, 'Size': '10gm', 'tax': 18},\n",
       " '103': {'Name': 'Oreo', 'Qn': 300, 'pr': 30, 'Size': '300gm', 'tax': 18},\n",
       " '104': {'Name': 'Maggie', 'Qn': 500, 'pr': 12, 'Size': '70gm', 'tax': 18},\n",
       " '105': {'Name': 'lolipop', 'Qn': 240, 'pr': 10, 'Size': '9gm', 'tax': 18},\n",
       " '106': {'Name': 'Burbon', 'Qn': 243, 'pr': 60, 'Size': '250gm', 'tax': 18},\n",
       " '107': {'Name': 'Popcorn', 'Qn': 150, 'pr': 20, 'Size': '100gm', 'tax': 18},\n",
       " '108': {'Name': 'Cheese', 'Qn': 100, 'pr': 175, 'Size': '500gm', 'tax': 12},\n",
       " '109': {'Name': 'Soup', 'Qn': 283, 'pr': 200, 'Size': '500gm', 'tax': 18},\n",
       " '110': {'Name': 'Pasta', 'Qn': 600, 'pr': 150, 'Size': '500gm', 'tax': 5},\n",
       " '111': {'Name': 'kitkat', 'Qn': 494, 'pr': 40, 'Size': '250gm', 'tax': 18},\n",
       " '112': {'Name': '5star', 'Qn': 500, 'pr': 40, 'Size': '250gm', 'tax': 18},\n",
       " '113': {'Name': 'Cardbury', 'Qn': 350, 'pr': 210, 'Size': '500gm', 'tax': 18},\n",
       " '114': {'Name': 'Perk', 'Qn': 100, 'pr': 210, 'Size': '500gm', 'tax': 18},\n",
       " '115': {'Name': 'Sprite', 'Qn': 257, 'pr': 60, 'Size': '250ml', 'tax': 18},\n",
       " '116': {'Name': 'Pepsi', 'Qn': 150, 'pr': 60, 'Size': '250ml', 'tax': 18},\n",
       " '117': {'Name': 'Coca Cola', 'Qn': 390, 'pr': 60, 'Size': '250ml', 'tax': 18},\n",
       " '118': {'Name': 'Limca', 'Qn': 176, 'pr': 60, 'Size': '250ml', 'tax': 18},\n",
       " '119': {'Name': 'Lays', 'Qn': 200, 'pr': 20, 'Size': '50gm', 'tax': 18},\n",
       " '120': {'Name': 'Ketchup', 'Qn': 100, 'pr': 140, 'Size': '1kg', 'tax': 12},\n",
       " '121': {'Name': 'Soy Sauce', 'Qn': 150, 'pr': 50, 'Size': '100ml', 'tax': 12},\n",
       " '122': {'Name': 'Vinegar', 'Qn': 150, 'pr': 200, 'Size': '300ml', 'tax': 12},\n",
       " '123': {'Name': 'Honey', 'Qn': 261, 'pr': 300, 'Size': '500gm', 'tax': 5},\n",
       " '124': {'Name': 'Cream', 'Qn': 320, 'pr': 200, 'Size': '500gm', 'tax': 5},\n",
       " '125': {'Name': 'Cake', 'Qn': 197, 'pr': 400, 'Size': '500gm', 'tax': 18},\n",
       " '126': {'Name': 'Nachos', 'Qn': 356, 'pr': 200, 'Size': '500gm', 'tax': 18},\n",
       " '127': {'Name': 'Shampoo', 'Qn': 216, 'pr': 250, 'Size': '180ml', 'tax': 5},\n",
       " '128': {'Name': 'Soap', 'Qn': 187, 'pr': 210, 'Size': '500gm', 'tax': 18},\n",
       " '129': {'Name': 'Lotion', 'Qn': 180, 'pr': 95, 'Size': '100ml', 'tax': 18},\n",
       " '130': {'Name': 'Oil', 'Qn': 300, 'pr': 100, 'Size': '200ml', 'tax': 5}}"
      ]
     },
     "execution_count": 60,
     "metadata": {},
     "output_type": "execute_result"
    }
   ],
   "source": [
    "records"
   ]
  },
  {
   "cell_type": "markdown",
   "metadata": {},
   "source": [
    "# Sales JSON"
   ]
  },
  {
   "cell_type": "code",
   "execution_count": 7,
   "metadata": {},
   "outputs": [],
   "source": [
    "sales= {1: {'prod' : ui_prod, 'qn' : ui_quant, 'amount': records[ui_prod]['pr'] * ui_quant}}"
   ]
  },
  {
   "cell_type": "code",
   "execution_count": 78,
   "metadata": {},
   "outputs": [],
   "source": [
    "sale = json.dumps(sales)\n",
    "fd = open(\"sales.json\",'w')\n",
    "fd.write(sale)\n",
    "fd.close()"
   ]
  },
  {
   "cell_type": "code",
   "execution_count": 67,
   "metadata": {},
   "outputs": [],
   "source": [
    "sales[(len(sales)+1)]= {'prod' : ui_prod, 'qn' : ui_quant, 'amount': records[ui_prod]['pr'] * ui_quant}"
   ]
  },
  {
   "cell_type": "code",
   "execution_count": null,
   "metadata": {},
   "outputs": [],
   "source": []
  }
 ],
 "metadata": {
  "kernelspec": {
   "display_name": "Python 3",
   "language": "python",
   "name": "python3"
  },
  "language_info": {
   "codemirror_mode": {
    "name": "ipython",
    "version": 3
   },
   "file_extension": ".py",
   "mimetype": "text/x-python",
   "name": "python",
   "nbconvert_exporter": "python",
   "pygments_lexer": "ipython3",
   "version": "3.7.6"
  }
 },
 "nbformat": 4,
 "nbformat_minor": 4
}
